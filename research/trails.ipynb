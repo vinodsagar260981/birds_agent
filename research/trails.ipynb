{
 "cells": [
  {
   "cell_type": "code",
   "id": "908cc22947e19881",
   "metadata": {
    "ExecuteTime": {
     "end_time": "2025-06-01T15:40:30.223118Z",
     "start_time": "2025-06-01T15:40:30.215938Z"
    }
   },
   "source": [
    "%pwd"
   ],
   "outputs": [
    {
     "data": {
      "text/plain": [
       "'C:\\\\Users\\\\vinod\\\\OneDrive\\\\Desktop\\\\Coding\\\\AIWorld\\\\chatbot\\\\Bird_chatbot\\\\birds_agent\\\\research'"
      ]
     },
     "execution_count": 1,
     "metadata": {},
     "output_type": "execute_result"
    }
   ],
   "execution_count": 1
  },
  {
   "cell_type": "code",
   "id": "c50bcbb9f88d0945",
   "metadata": {
    "ExecuteTime": {
     "end_time": "2025-06-01T15:40:34.447722Z",
     "start_time": "2025-06-01T15:40:34.444296Z"
    }
   },
   "source": [
    "import os\n",
    "os.chdir(\"../\")"
   ],
   "outputs": [],
   "execution_count": 2
  },
  {
   "cell_type": "code",
   "id": "bf4f95665ae28132",
   "metadata": {
    "ExecuteTime": {
     "end_time": "2025-06-01T15:40:36.755836Z",
     "start_time": "2025-06-01T15:40:36.750824Z"
    }
   },
   "source": [
    "%pwd"
   ],
   "outputs": [
    {
     "data": {
      "text/plain": [
       "'C:\\\\Users\\\\vinod\\\\OneDrive\\\\Desktop\\\\Coding\\\\AIWorld\\\\chatbot\\\\Bird_chatbot\\\\birds_agent'"
      ]
     },
     "execution_count": 3,
     "metadata": {},
     "output_type": "execute_result"
    }
   ],
   "execution_count": 3
  },
  {
   "cell_type": "code",
   "id": "973f82b17d6849c8",
   "metadata": {
    "ExecuteTime": {
     "end_time": "2025-06-01T15:42:00.071927Z",
     "start_time": "2025-06-01T15:41:59.269043Z"
    }
   },
   "source": [
    "from langchain.document_loaders import DirectoryLoader\n",
    "from langchain.text_splitter import RecursiveCharacterTextSplitter\n",
    "from langchain_community.document_loaders import PyPDFLoader"
   ],
   "outputs": [],
   "execution_count": 5
  },
  {
   "cell_type": "code",
   "id": "43d47fcf66dec198",
   "metadata": {
    "ExecuteTime": {
     "end_time": "2025-06-01T15:42:03.860804Z",
     "start_time": "2025-06-01T15:42:03.856267Z"
    }
   },
   "source": [
    "#Extract PDF from PDF file\n",
    "\n",
    "def load_pdf_file(data):\n",
    "    loader = DirectoryLoader(data,\n",
    "                            glob=\"*.pdf\",\n",
    "                            loader_cls=PyPDFLoader)\n",
    "    documents=loader.load()\n",
    "    return documents"
   ],
   "outputs": [],
   "execution_count": 6
  },
  {
   "cell_type": "code",
   "id": "2eead522e4607910",
   "metadata": {
    "ExecuteTime": {
     "end_time": "2025-06-01T15:42:06.729055Z",
     "start_time": "2025-06-01T15:42:05.570956Z"
    }
   },
   "source": [
    "extracted_data = load_pdf_file(data=\"Data/\")"
   ],
   "outputs": [],
   "execution_count": 7
  },
  {
   "cell_type": "code",
   "id": "35cbbf451b41f6bd",
   "metadata": {
    "ExecuteTime": {
     "end_time": "2025-06-01T15:42:07.557314Z",
     "start_time": "2025-06-01T15:42:07.552022Z"
    }
   },
   "source": [
    "len(extracted_data)"
   ],
   "outputs": [
    {
     "data": {
      "text/plain": [
       "152"
      ]
     },
     "execution_count": 8,
     "metadata": {},
     "output_type": "execute_result"
    }
   ],
   "execution_count": 8
  },
  {
   "cell_type": "code",
   "id": "bfc3d92d2be7110d",
   "metadata": {
    "ExecuteTime": {
     "end_time": "2025-06-01T15:42:12.145027Z",
     "start_time": "2025-06-01T15:42:12.141610Z"
    }
   },
   "source": [
    "# extracted_data"
   ],
   "outputs": [],
   "execution_count": 9
  },
  {
   "cell_type": "code",
   "id": "4a4e3d9cd66dec0b",
   "metadata": {
    "ExecuteTime": {
     "end_time": "2025-06-01T15:42:12.819127Z",
     "start_time": "2025-06-01T15:42:12.815603Z"
    }
   },
   "source": [
    "#Split the DATA into text Chunks perform chunk\n",
    "\n",
    "def text_split(extracted_data):\n",
    "    text_splitter = RecursiveCharacterTextSplitter(chunk_size=500, chunk_overlap=20)\n",
    "    text_chunk = text_splitter.split_documents(extracted_data)\n",
    "    return text_chunk"
   ],
   "outputs": [],
   "execution_count": 10
  },
  {
   "cell_type": "code",
   "id": "b6a703dc7e06445e",
   "metadata": {
    "ExecuteTime": {
     "end_time": "2025-06-01T15:42:13.729582Z",
     "start_time": "2025-06-01T15:42:13.720628Z"
    }
   },
   "source": [
    "text_chunks = text_split(extracted_data)\n",
    "print(\"Length of text chunks\", len(text_chunks))"
   ],
   "outputs": [
    {
     "name": "stdout",
     "output_type": "stream",
     "text": [
      "Length of text chunks 167\n"
     ]
    }
   ],
   "execution_count": 11
  },
  {
   "cell_type": "code",
   "id": "612a700def8f0cdf",
   "metadata": {
    "ExecuteTime": {
     "end_time": "2025-06-01T15:42:14.453543Z",
     "start_time": "2025-06-01T15:42:14.449560Z"
    }
   },
   "source": [
    "# text_chunks"
   ],
   "outputs": [],
   "execution_count": 12
  },
  {
   "cell_type": "code",
   "id": "b11b2d54",
   "metadata": {
    "ExecuteTime": {
     "end_time": "2025-06-01T15:42:15.040753Z",
     "start_time": "2025-06-01T15:42:15.036742Z"
    }
   },
   "source": [],
   "outputs": [],
   "execution_count": null
  },
  {
   "cell_type": "code",
   "id": "298969abfc7f2f36",
   "metadata": {
    "ExecuteTime": {
     "end_time": "2025-06-01T15:42:15.987586Z",
     "start_time": "2025-06-01T15:42:15.905460Z"
    }
   },
   "source": [
    "#Download the Embeddings from Hugging face\n",
    "\n",
    "from langchain_huggingface import HuggingFaceEmbeddings"
   ],
   "outputs": [],
   "execution_count": 13
  },
  {
   "cell_type": "code",
   "id": "d223830291518662",
   "metadata": {
    "ExecuteTime": {
     "end_time": "2025-06-01T15:42:16.681304Z",
     "start_time": "2025-06-01T15:42:16.677368Z"
    }
   },
   "source": [
    "def downlaod_hugging_face_embedding():\n",
    "    embeddings = HuggingFaceEmbeddings(model_name='sentence-transformers/all-MiniLM-L6-v2')\n",
    "    return embeddings"
   ],
   "outputs": [],
   "execution_count": 14
  },
  {
   "cell_type": "code",
   "id": "444e17f63522e79a",
   "metadata": {
    "ExecuteTime": {
     "end_time": "2025-06-01T15:43:13.678593Z",
     "start_time": "2025-06-01T15:42:18.137295Z"
    }
   },
   "source": [
    "embeddings = downlaod_hugging_face_embedding()"
   ],
   "outputs": [],
   "execution_count": 15
  },
  {
   "cell_type": "code",
   "id": "4ee48d822c5dc568",
   "metadata": {
    "ExecuteTime": {
     "end_time": "2025-06-01T15:45:50.751637Z",
     "start_time": "2025-06-01T15:45:50.654964Z"
    }
   },
   "source": [
    "query_result = embeddings.embed_query('Hello world')\n",
    "print(\"Length: \",len(query_result))# This is a sentence-transformers model: It maps sentences & paragraphs to a 384 dimensional dense vector space and can be used for tasks like clustering or semantic search."
   ],
   "outputs": [
    {
     "name": "stdout",
     "output_type": "stream",
     "text": [
      "Length:  384\n"
     ]
    }
   ],
   "execution_count": 16
  },
  {
   "cell_type": "code",
   "id": "adc25eeb28f3fedc",
   "metadata": {
    "ExecuteTime": {
     "end_time": "2025-06-01T15:45:52.983875Z",
     "start_time": "2025-06-01T15:45:52.977543Z"
    }
   },
   "source": [
    "# query_result"
   ],
   "outputs": [],
   "execution_count": 17
  },
  {
   "cell_type": "code",
   "id": "9a56c96ae961863c",
   "metadata": {
    "ExecuteTime": {
     "end_time": "2025-06-01T15:45:58.264533Z",
     "start_time": "2025-06-01T15:45:54.779638Z"
    }
   },
   "source": [
    "# create a index in pinecone\n",
    "from pinecone import Pinecone, ServerlessSpec\n",
    "from dotenv import load_dotenv\n",
    "\n",
    "load_dotenv(\".env\", override=True)\n",
    "\n",
    "PINECONE_API_KEY = os.getenv(\"PINECONE_API_KEY\")\n",
    "\n",
    "pc = Pinecone(api_key=PINECONE_API_KEY)\n",
    "\n",
    "index_name = \"birdbot\"\n",
    "\n",
    "pc.create_index(\n",
    "    name= index_name,\n",
    "    dimension=384,\n",
    "    metric=\"cosine\",\n",
    "    spec=ServerlessSpec(\n",
    "        cloud=\"aws\",\n",
    "        region=\"us-east-1\"\n",
    "    )\n",
    ")"
   ],
   "outputs": [
    {
     "ename": "PineconeApiException",
     "evalue": "(409)\nReason: Conflict\nHTTP response headers: HTTPHeaderDict({'content-type': 'text/plain; charset=utf-8', 'access-control-allow-origin': '*', 'vary': 'origin,access-control-request-method,access-control-request-headers', 'access-control-expose-headers': '*', 'x-pinecone-api-version': '2025-01', 'x-cloud-trace-context': '9ff3db5420cd49863ca5dbbb9f6211a1', 'date': 'Sun, 01 Jun 2025 15:45:57 GMT', 'server': 'Google Frontend', 'Content-Length': '85', 'Via': '1.1 google', 'Alt-Svc': 'h3=\":443\"; ma=2592000,h3-29=\":443\"; ma=2592000'})\nHTTP response body: {\"error\":{\"code\":\"ALREADY_EXISTS\",\"message\":\"Resource  already exists\"},\"status\":409}\n",
     "output_type": "error",
     "traceback": [
      "\u001B[31m---------------------------------------------------------------------------\u001B[39m",
      "\u001B[31mPineconeApiException\u001B[39m                      Traceback (most recent call last)",
      "\u001B[36mCell\u001B[39m\u001B[36m \u001B[39m\u001B[32mIn[18]\u001B[39m\u001B[32m, line 13\u001B[39m\n\u001B[32m      9\u001B[39m pc = Pinecone(api_key=PINECONE_API_KEY)\n\u001B[32m     11\u001B[39m index_name = \u001B[33m\"\u001B[39m\u001B[33mbirdbot\u001B[39m\u001B[33m\"\u001B[39m\n\u001B[32m---> \u001B[39m\u001B[32m13\u001B[39m \u001B[43mpc\u001B[49m\u001B[43m.\u001B[49m\u001B[43mcreate_index\u001B[49m\u001B[43m(\u001B[49m\n\u001B[32m     14\u001B[39m \u001B[43m    \u001B[49m\u001B[43mname\u001B[49m\u001B[43m=\u001B[49m\u001B[43m \u001B[49m\u001B[43mindex_name\u001B[49m\u001B[43m,\u001B[49m\n\u001B[32m     15\u001B[39m \u001B[43m    \u001B[49m\u001B[43mdimension\u001B[49m\u001B[43m=\u001B[49m\u001B[32;43m384\u001B[39;49m\u001B[43m,\u001B[49m\n\u001B[32m     16\u001B[39m \u001B[43m    \u001B[49m\u001B[43mmetric\u001B[49m\u001B[43m=\u001B[49m\u001B[33;43m\"\u001B[39;49m\u001B[33;43mcosine\u001B[39;49m\u001B[33;43m\"\u001B[39;49m\u001B[43m,\u001B[49m\n\u001B[32m     17\u001B[39m \u001B[43m    \u001B[49m\u001B[43mspec\u001B[49m\u001B[43m=\u001B[49m\u001B[43mServerlessSpec\u001B[49m\u001B[43m(\u001B[49m\n\u001B[32m     18\u001B[39m \u001B[43m        \u001B[49m\u001B[43mcloud\u001B[49m\u001B[43m=\u001B[49m\u001B[33;43m\"\u001B[39;49m\u001B[33;43maws\u001B[39;49m\u001B[33;43m\"\u001B[39;49m\u001B[43m,\u001B[49m\n\u001B[32m     19\u001B[39m \u001B[43m        \u001B[49m\u001B[43mregion\u001B[49m\u001B[43m=\u001B[49m\u001B[33;43m\"\u001B[39;49m\u001B[33;43mus-east-1\u001B[39;49m\u001B[33;43m\"\u001B[39;49m\n\u001B[32m     20\u001B[39m \u001B[43m    \u001B[49m\u001B[43m)\u001B[49m\n\u001B[32m     21\u001B[39m \u001B[43m)\u001B[49m\n",
      "\u001B[36mFile \u001B[39m\u001B[32m~\\OneDrive\\Desktop\\Coding\\AIWorld\\Basic_LangGraph\\.venv\\Lib\\site-packages\\pinecone\\control\\pinecone.py:143\u001B[39m, in \u001B[36mPinecone.create_index\u001B[39m\u001B[34m(self, name, spec, dimension, metric, timeout, deletion_protection, vector_type, tags)\u001B[39m\n\u001B[32m    123\u001B[39m \u001B[38;5;28;01mdef\u001B[39;00m\u001B[38;5;250m \u001B[39m\u001B[34mcreate_index\u001B[39m(\n\u001B[32m    124\u001B[39m     \u001B[38;5;28mself\u001B[39m,\n\u001B[32m    125\u001B[39m     name: \u001B[38;5;28mstr\u001B[39m,\n\u001B[32m   (...)\u001B[39m\u001B[32m    132\u001B[39m     tags: Optional[Dict[\u001B[38;5;28mstr\u001B[39m, \u001B[38;5;28mstr\u001B[39m]] = \u001B[38;5;28;01mNone\u001B[39;00m,\n\u001B[32m    133\u001B[39m ) -> IndexModel:\n\u001B[32m    134\u001B[39m     req = PineconeDBControlRequestFactory.create_index_request(\n\u001B[32m    135\u001B[39m         name=name,\n\u001B[32m    136\u001B[39m         spec=spec,\n\u001B[32m   (...)\u001B[39m\u001B[32m    141\u001B[39m         tags=tags,\n\u001B[32m    142\u001B[39m     )\n\u001B[32m--> \u001B[39m\u001B[32m143\u001B[39m     resp = \u001B[38;5;28;43mself\u001B[39;49m\u001B[43m.\u001B[49m\u001B[43mindex_api\u001B[49m\u001B[43m.\u001B[49m\u001B[43mcreate_index\u001B[49m\u001B[43m(\u001B[49m\u001B[43mcreate_index_request\u001B[49m\u001B[43m=\u001B[49m\u001B[43mreq\u001B[49m\u001B[43m)\u001B[49m\n\u001B[32m    145\u001B[39m     \u001B[38;5;28;01mif\u001B[39;00m timeout == -\u001B[32m1\u001B[39m:\n\u001B[32m    146\u001B[39m         \u001B[38;5;28;01mreturn\u001B[39;00m IndexModel(resp)\n",
      "\u001B[36mFile \u001B[39m\u001B[32m~\\OneDrive\\Desktop\\Coding\\AIWorld\\Basic_LangGraph\\.venv\\Lib\\site-packages\\pinecone\\openapi_support\\endpoint.py:102\u001B[39m, in \u001B[36mEndpoint.__call__\u001B[39m\u001B[34m(self, *args, **kwargs)\u001B[39m\n\u001B[32m     91\u001B[39m \u001B[38;5;28;01mdef\u001B[39;00m\u001B[38;5;250m \u001B[39m\u001B[34m__call__\u001B[39m(\u001B[38;5;28mself\u001B[39m, *args, **kwargs):\n\u001B[32m     92\u001B[39m \u001B[38;5;250m    \u001B[39m\u001B[33;03m\"\"\"This method is invoked when endpoints are called\u001B[39;00m\n\u001B[32m     93\u001B[39m \u001B[33;03m    Example:\u001B[39;00m\n\u001B[32m     94\u001B[39m \n\u001B[32m   (...)\u001B[39m\u001B[32m    100\u001B[39m \n\u001B[32m    101\u001B[39m \u001B[33;03m    \"\"\"\u001B[39;00m\n\u001B[32m--> \u001B[39m\u001B[32m102\u001B[39m     \u001B[38;5;28;01mreturn\u001B[39;00m \u001B[38;5;28;43mself\u001B[39;49m\u001B[43m.\u001B[49m\u001B[43mcallable\u001B[49m\u001B[43m(\u001B[49m\u001B[38;5;28;43mself\u001B[39;49m\u001B[43m,\u001B[49m\u001B[43m \u001B[49m\u001B[43m*\u001B[49m\u001B[43margs\u001B[49m\u001B[43m,\u001B[49m\u001B[43m \u001B[49m\u001B[43m*\u001B[49m\u001B[43m*\u001B[49m\u001B[43mkwargs\u001B[49m\u001B[43m)\u001B[49m\n",
      "\u001B[36mFile \u001B[39m\u001B[32m~\\OneDrive\\Desktop\\Coding\\AIWorld\\Basic_LangGraph\\.venv\\Lib\\site-packages\\pinecone\\core\\openapi\\db_control\\api\\manage_indexes_api.py:235\u001B[39m, in \u001B[36mManageIndexesApi.__init__.<locals>.__create_index\u001B[39m\u001B[34m(self, create_index_request, **kwargs)\u001B[39m\n\u001B[32m    233\u001B[39m kwargs = \u001B[38;5;28mself\u001B[39m._process_openapi_kwargs(kwargs)\n\u001B[32m    234\u001B[39m kwargs[\u001B[33m\"\u001B[39m\u001B[33mcreate_index_request\u001B[39m\u001B[33m\"\u001B[39m] = create_index_request\n\u001B[32m--> \u001B[39m\u001B[32m235\u001B[39m \u001B[38;5;28;01mreturn\u001B[39;00m \u001B[38;5;28;43mself\u001B[39;49m\u001B[43m.\u001B[49m\u001B[43mcall_with_http_info\u001B[49m\u001B[43m(\u001B[49m\u001B[43m*\u001B[49m\u001B[43m*\u001B[49m\u001B[43mkwargs\u001B[49m\u001B[43m)\u001B[49m\n",
      "\u001B[36mFile \u001B[39m\u001B[32m~\\OneDrive\\Desktop\\Coding\\AIWorld\\Basic_LangGraph\\.venv\\Lib\\site-packages\\pinecone\\openapi_support\\endpoint.py:134\u001B[39m, in \u001B[36mEndpoint.call_with_http_info\u001B[39m\u001B[34m(self, **kwargs)\u001B[39m\n\u001B[32m    124\u001B[39m params = EndpointUtils.gather_params(\n\u001B[32m    125\u001B[39m     attribute_map=\u001B[38;5;28mself\u001B[39m.attribute_map,\n\u001B[32m    126\u001B[39m     location_map=\u001B[38;5;28mself\u001B[39m.location_map,\n\u001B[32m   (...)\u001B[39m\u001B[32m    129\u001B[39m     kwargs=kwargs,\n\u001B[32m    130\u001B[39m )\n\u001B[32m    132\u001B[39m HeaderUtil.prepare_headers(headers_map=\u001B[38;5;28mself\u001B[39m.headers_map, params=params)\n\u001B[32m--> \u001B[39m\u001B[32m134\u001B[39m \u001B[38;5;28;01mreturn\u001B[39;00m \u001B[38;5;28;43mself\u001B[39;49m\u001B[43m.\u001B[49m\u001B[43mapi_client\u001B[49m\u001B[43m.\u001B[49m\u001B[43mcall_api\u001B[49m\u001B[43m(\u001B[49m\n\u001B[32m    135\u001B[39m \u001B[43m    \u001B[49m\u001B[38;5;28;43mself\u001B[39;49m\u001B[43m.\u001B[49m\u001B[43msettings\u001B[49m\u001B[43m[\u001B[49m\u001B[33;43m\"\u001B[39;49m\u001B[33;43mendpoint_path\u001B[39;49m\u001B[33;43m\"\u001B[39;49m\u001B[43m]\u001B[49m\u001B[43m,\u001B[49m\n\u001B[32m    136\u001B[39m \u001B[43m    \u001B[49m\u001B[38;5;28;43mself\u001B[39;49m\u001B[43m.\u001B[49m\u001B[43msettings\u001B[49m\u001B[43m[\u001B[49m\u001B[33;43m\"\u001B[39;49m\u001B[33;43mhttp_method\u001B[39;49m\u001B[33;43m\"\u001B[39;49m\u001B[43m]\u001B[49m\u001B[43m,\u001B[49m\n\u001B[32m    137\u001B[39m \u001B[43m    \u001B[49m\u001B[43mpath_params\u001B[49m\u001B[43m=\u001B[49m\u001B[43mparams\u001B[49m\u001B[43m[\u001B[49m\u001B[33;43m\"\u001B[39;49m\u001B[33;43mpath\u001B[39;49m\u001B[33;43m\"\u001B[39;49m\u001B[43m]\u001B[49m\u001B[43m,\u001B[49m\n\u001B[32m    138\u001B[39m \u001B[43m    \u001B[49m\u001B[43mquery_params\u001B[49m\u001B[43m=\u001B[49m\u001B[43mparams\u001B[49m\u001B[43m[\u001B[49m\u001B[33;43m\"\u001B[39;49m\u001B[33;43mquery\u001B[39;49m\u001B[33;43m\"\u001B[39;49m\u001B[43m]\u001B[49m\u001B[43m,\u001B[49m\n\u001B[32m    139\u001B[39m \u001B[43m    \u001B[49m\u001B[43mheader_params\u001B[49m\u001B[43m=\u001B[49m\u001B[43mparams\u001B[49m\u001B[43m[\u001B[49m\u001B[33;43m\"\u001B[39;49m\u001B[33;43mheader\u001B[39;49m\u001B[33;43m\"\u001B[39;49m\u001B[43m]\u001B[49m\u001B[43m,\u001B[49m\n\u001B[32m    140\u001B[39m \u001B[43m    \u001B[49m\u001B[43mbody\u001B[49m\u001B[43m=\u001B[49m\u001B[43mparams\u001B[49m\u001B[43m[\u001B[49m\u001B[33;43m\"\u001B[39;49m\u001B[33;43mbody\u001B[39;49m\u001B[33;43m\"\u001B[39;49m\u001B[43m]\u001B[49m\u001B[43m,\u001B[49m\n\u001B[32m    141\u001B[39m \u001B[43m    \u001B[49m\u001B[43mpost_params\u001B[49m\u001B[43m=\u001B[49m\u001B[43mparams\u001B[49m\u001B[43m[\u001B[49m\u001B[33;43m\"\u001B[39;49m\u001B[33;43mform\u001B[39;49m\u001B[33;43m\"\u001B[39;49m\u001B[43m]\u001B[49m\u001B[43m,\u001B[49m\n\u001B[32m    142\u001B[39m \u001B[43m    \u001B[49m\u001B[43mfiles\u001B[49m\u001B[43m=\u001B[49m\u001B[43mparams\u001B[49m\u001B[43m[\u001B[49m\u001B[33;43m\"\u001B[39;49m\u001B[33;43mfile\u001B[39;49m\u001B[33;43m\"\u001B[39;49m\u001B[43m]\u001B[49m\u001B[43m,\u001B[49m\n\u001B[32m    143\u001B[39m \u001B[43m    \u001B[49m\u001B[43mresponse_type\u001B[49m\u001B[43m=\u001B[49m\u001B[38;5;28;43mself\u001B[39;49m\u001B[43m.\u001B[49m\u001B[43msettings\u001B[49m\u001B[43m[\u001B[49m\u001B[33;43m\"\u001B[39;49m\u001B[33;43mresponse_type\u001B[39;49m\u001B[33;43m\"\u001B[39;49m\u001B[43m]\u001B[49m\u001B[43m,\u001B[49m\n\u001B[32m    144\u001B[39m \u001B[43m    \u001B[49m\u001B[43mauth_settings\u001B[49m\u001B[43m=\u001B[49m\u001B[38;5;28;43mself\u001B[39;49m\u001B[43m.\u001B[49m\u001B[43msettings\u001B[49m\u001B[43m[\u001B[49m\u001B[33;43m\"\u001B[39;49m\u001B[33;43mauth\u001B[39;49m\u001B[33;43m\"\u001B[39;49m\u001B[43m]\u001B[49m\u001B[43m,\u001B[49m\n\u001B[32m    145\u001B[39m \u001B[43m    \u001B[49m\u001B[43masync_req\u001B[49m\u001B[43m=\u001B[49m\u001B[43mkwargs\u001B[49m\u001B[43m[\u001B[49m\u001B[33;43m\"\u001B[39;49m\u001B[33;43masync_req\u001B[39;49m\u001B[33;43m\"\u001B[39;49m\u001B[43m]\u001B[49m\u001B[43m,\u001B[49m\n\u001B[32m    146\u001B[39m \u001B[43m    \u001B[49m\u001B[43masync_threadpool_executor\u001B[49m\u001B[43m=\u001B[49m\u001B[43mkwargs\u001B[49m\u001B[43m.\u001B[49m\u001B[43mget\u001B[49m\u001B[43m(\u001B[49m\u001B[33;43m\"\u001B[39;49m\u001B[33;43masync_threadpool_executor\u001B[39;49m\u001B[33;43m\"\u001B[39;49m\u001B[43m,\u001B[49m\u001B[43m \u001B[49m\u001B[38;5;28;43;01mNone\u001B[39;49;00m\u001B[43m)\u001B[49m\u001B[43m,\u001B[49m\n\u001B[32m    147\u001B[39m \u001B[43m    \u001B[49m\u001B[43m_check_type\u001B[49m\u001B[43m=\u001B[49m\u001B[43mkwargs\u001B[49m\u001B[43m[\u001B[49m\u001B[33;43m\"\u001B[39;49m\u001B[33;43m_check_return_type\u001B[39;49m\u001B[33;43m\"\u001B[39;49m\u001B[43m]\u001B[49m\u001B[43m,\u001B[49m\n\u001B[32m    148\u001B[39m \u001B[43m    \u001B[49m\u001B[43m_return_http_data_only\u001B[49m\u001B[43m=\u001B[49m\u001B[43mkwargs\u001B[49m\u001B[43m[\u001B[49m\u001B[33;43m\"\u001B[39;49m\u001B[33;43m_return_http_data_only\u001B[39;49m\u001B[33;43m\"\u001B[39;49m\u001B[43m]\u001B[49m\u001B[43m,\u001B[49m\n\u001B[32m    149\u001B[39m \u001B[43m    \u001B[49m\u001B[43m_preload_content\u001B[49m\u001B[43m=\u001B[49m\u001B[43mkwargs\u001B[49m\u001B[43m[\u001B[49m\u001B[33;43m\"\u001B[39;49m\u001B[33;43m_preload_content\u001B[39;49m\u001B[33;43m\"\u001B[39;49m\u001B[43m]\u001B[49m\u001B[43m,\u001B[49m\n\u001B[32m    150\u001B[39m \u001B[43m    \u001B[49m\u001B[43m_request_timeout\u001B[49m\u001B[43m=\u001B[49m\u001B[43mkwargs\u001B[49m\u001B[43m[\u001B[49m\u001B[33;43m\"\u001B[39;49m\u001B[33;43m_request_timeout\u001B[39;49m\u001B[33;43m\"\u001B[39;49m\u001B[43m]\u001B[49m\u001B[43m,\u001B[49m\n\u001B[32m    151\u001B[39m \u001B[43m    \u001B[49m\u001B[43m_host\u001B[49m\u001B[43m=\u001B[49m\u001B[43m_host\u001B[49m\u001B[43m,\u001B[49m\n\u001B[32m    152\u001B[39m \u001B[43m    \u001B[49m\u001B[43mcollection_formats\u001B[49m\u001B[43m=\u001B[49m\u001B[43mparams\u001B[49m\u001B[43m[\u001B[49m\u001B[33;43m\"\u001B[39;49m\u001B[33;43mcollection_format\u001B[39;49m\u001B[33;43m\"\u001B[39;49m\u001B[43m]\u001B[49m\u001B[43m,\u001B[49m\n\u001B[32m    153\u001B[39m \u001B[43m\u001B[49m\u001B[43m)\u001B[49m\n",
      "\u001B[36mFile \u001B[39m\u001B[32m~\\OneDrive\\Desktop\\Coding\\AIWorld\\Basic_LangGraph\\.venv\\Lib\\site-packages\\pinecone\\openapi_support\\api_client.py:300\u001B[39m, in \u001B[36mApiClient.call_api\u001B[39m\u001B[34m(self, resource_path, method, path_params, query_params, header_params, body, post_params, files, response_type, auth_settings, async_req, async_threadpool_executor, _return_http_data_only, collection_formats, _preload_content, _request_timeout, _host, _check_type)\u001B[39m\n\u001B[32m    279\u001B[39m     \u001B[38;5;28;01mreturn\u001B[39;00m \u001B[38;5;28mself\u001B[39m.threadpool_executor.submit(\n\u001B[32m    280\u001B[39m         \u001B[38;5;28mself\u001B[39m.__call_api,\n\u001B[32m    281\u001B[39m         resource_path,\n\u001B[32m   (...)\u001B[39m\u001B[32m    296\u001B[39m         _check_type,\n\u001B[32m    297\u001B[39m     )\n\u001B[32m    299\u001B[39m \u001B[38;5;28;01mif\u001B[39;00m \u001B[38;5;129;01mnot\u001B[39;00m async_req:\n\u001B[32m--> \u001B[39m\u001B[32m300\u001B[39m     \u001B[38;5;28;01mreturn\u001B[39;00m \u001B[38;5;28;43mself\u001B[39;49m\u001B[43m.\u001B[49m\u001B[43m__call_api\u001B[49m\u001B[43m(\u001B[49m\n\u001B[32m    301\u001B[39m \u001B[43m        \u001B[49m\u001B[43mresource_path\u001B[49m\u001B[43m,\u001B[49m\n\u001B[32m    302\u001B[39m \u001B[43m        \u001B[49m\u001B[43mmethod\u001B[49m\u001B[43m,\u001B[49m\n\u001B[32m    303\u001B[39m \u001B[43m        \u001B[49m\u001B[43mpath_params\u001B[49m\u001B[43m,\u001B[49m\n\u001B[32m    304\u001B[39m \u001B[43m        \u001B[49m\u001B[43mquery_params\u001B[49m\u001B[43m,\u001B[49m\n\u001B[32m    305\u001B[39m \u001B[43m        \u001B[49m\u001B[43mheader_params\u001B[49m\u001B[43m,\u001B[49m\n\u001B[32m    306\u001B[39m \u001B[43m        \u001B[49m\u001B[43mbody\u001B[49m\u001B[43m,\u001B[49m\n\u001B[32m    307\u001B[39m \u001B[43m        \u001B[49m\u001B[43mpost_params\u001B[49m\u001B[43m,\u001B[49m\n\u001B[32m    308\u001B[39m \u001B[43m        \u001B[49m\u001B[43mfiles\u001B[49m\u001B[43m,\u001B[49m\n\u001B[32m    309\u001B[39m \u001B[43m        \u001B[49m\u001B[43mresponse_type\u001B[49m\u001B[43m,\u001B[49m\n\u001B[32m    310\u001B[39m \u001B[43m        \u001B[49m\u001B[43mauth_settings\u001B[49m\u001B[43m,\u001B[49m\n\u001B[32m    311\u001B[39m \u001B[43m        \u001B[49m\u001B[43m_return_http_data_only\u001B[49m\u001B[43m,\u001B[49m\n\u001B[32m    312\u001B[39m \u001B[43m        \u001B[49m\u001B[43mcollection_formats\u001B[49m\u001B[43m,\u001B[49m\n\u001B[32m    313\u001B[39m \u001B[43m        \u001B[49m\u001B[43m_preload_content\u001B[49m\u001B[43m,\u001B[49m\n\u001B[32m    314\u001B[39m \u001B[43m        \u001B[49m\u001B[43m_request_timeout\u001B[49m\u001B[43m,\u001B[49m\n\u001B[32m    315\u001B[39m \u001B[43m        \u001B[49m\u001B[43m_host\u001B[49m\u001B[43m,\u001B[49m\n\u001B[32m    316\u001B[39m \u001B[43m        \u001B[49m\u001B[43m_check_type\u001B[49m\u001B[43m,\u001B[49m\n\u001B[32m    317\u001B[39m \u001B[43m    \u001B[49m\u001B[43m)\u001B[49m\n\u001B[32m    319\u001B[39m \u001B[38;5;28;01mreturn\u001B[39;00m \u001B[38;5;28mself\u001B[39m.pool.apply_async(\n\u001B[32m    320\u001B[39m     \u001B[38;5;28mself\u001B[39m.__call_api,\n\u001B[32m    321\u001B[39m     (\n\u001B[32m   (...)\u001B[39m\u001B[32m    338\u001B[39m     ),\n\u001B[32m    339\u001B[39m )\n",
      "\u001B[36mFile \u001B[39m\u001B[32m~\\OneDrive\\Desktop\\Coding\\AIWorld\\Basic_LangGraph\\.venv\\Lib\\site-packages\\pinecone\\openapi_support\\api_client.py:178\u001B[39m, in \u001B[36mApiClient.__call_api\u001B[39m\u001B[34m(self, resource_path, method, path_params, query_params, header_params, body, post_params, files, response_type, auth_settings, _return_http_data_only, collection_formats, _preload_content, _request_timeout, _host, _check_type)\u001B[39m\n\u001B[32m    176\u001B[39m \u001B[38;5;28;01mexcept\u001B[39;00m PineconeApiException \u001B[38;5;28;01mas\u001B[39;00m e:\n\u001B[32m    177\u001B[39m     e.body = e.body.decode(\u001B[33m\"\u001B[39m\u001B[33mutf-8\u001B[39m\u001B[33m\"\u001B[39m)\n\u001B[32m--> \u001B[39m\u001B[32m178\u001B[39m     \u001B[38;5;28;01mraise\u001B[39;00m e\n\u001B[32m    180\u001B[39m \u001B[38;5;28mself\u001B[39m.last_response = response_data\n\u001B[32m    182\u001B[39m return_data = response_data\n",
      "\u001B[36mFile \u001B[39m\u001B[32m~\\OneDrive\\Desktop\\Coding\\AIWorld\\Basic_LangGraph\\.venv\\Lib\\site-packages\\pinecone\\openapi_support\\api_client.py:166\u001B[39m, in \u001B[36mApiClient.__call_api\u001B[39m\u001B[34m(self, resource_path, method, path_params, query_params, header_params, body, post_params, files, response_type, auth_settings, _return_http_data_only, collection_formats, _preload_content, _request_timeout, _host, _check_type)\u001B[39m\n\u001B[32m    157\u001B[39m url = build_request_url(\n\u001B[32m    158\u001B[39m     config=config,\n\u001B[32m    159\u001B[39m     processed_path_params=path_params_tuple,\n\u001B[32m    160\u001B[39m     resource_path=resource_path,\n\u001B[32m    161\u001B[39m     _host=_host,\n\u001B[32m    162\u001B[39m )\n\u001B[32m    164\u001B[39m \u001B[38;5;28;01mtry\u001B[39;00m:\n\u001B[32m    165\u001B[39m     \u001B[38;5;66;03m# perform request and return response\u001B[39;00m\n\u001B[32m--> \u001B[39m\u001B[32m166\u001B[39m     response_data = \u001B[38;5;28;43mself\u001B[39;49m\u001B[43m.\u001B[49m\u001B[43mrequest\u001B[49m\u001B[43m(\u001B[49m\n\u001B[32m    167\u001B[39m \u001B[43m        \u001B[49m\u001B[43mmethod\u001B[49m\u001B[43m,\u001B[49m\n\u001B[32m    168\u001B[39m \u001B[43m        \u001B[49m\u001B[43murl\u001B[49m\u001B[43m,\u001B[49m\n\u001B[32m    169\u001B[39m \u001B[43m        \u001B[49m\u001B[43mquery_params\u001B[49m\u001B[43m=\u001B[49m\u001B[43mprocessed_query_params\u001B[49m\u001B[43m,\u001B[49m\n\u001B[32m    170\u001B[39m \u001B[43m        \u001B[49m\u001B[43mheaders\u001B[49m\u001B[43m=\u001B[49m\u001B[43mheaders_tuple\u001B[49m\u001B[43m,\u001B[49m\n\u001B[32m    171\u001B[39m \u001B[43m        \u001B[49m\u001B[43mpost_params\u001B[49m\u001B[43m=\u001B[49m\u001B[43mprocessed_post_params\u001B[49m\u001B[43m,\u001B[49m\n\u001B[32m    172\u001B[39m \u001B[43m        \u001B[49m\u001B[43mbody\u001B[49m\u001B[43m=\u001B[49m\u001B[43mbody\u001B[49m\u001B[43m,\u001B[49m\n\u001B[32m    173\u001B[39m \u001B[43m        \u001B[49m\u001B[43m_preload_content\u001B[49m\u001B[43m=\u001B[49m\u001B[43m_preload_content\u001B[49m\u001B[43m,\u001B[49m\n\u001B[32m    174\u001B[39m \u001B[43m        \u001B[49m\u001B[43m_request_timeout\u001B[49m\u001B[43m=\u001B[49m\u001B[43m_request_timeout\u001B[49m\u001B[43m,\u001B[49m\n\u001B[32m    175\u001B[39m \u001B[43m    \u001B[49m\u001B[43m)\u001B[49m\n\u001B[32m    176\u001B[39m \u001B[38;5;28;01mexcept\u001B[39;00m PineconeApiException \u001B[38;5;28;01mas\u001B[39;00m e:\n\u001B[32m    177\u001B[39m     e.body = e.body.decode(\u001B[33m\"\u001B[39m\u001B[33mutf-8\u001B[39m\u001B[33m\"\u001B[39m)\n",
      "\u001B[36mFile \u001B[39m\u001B[32m~\\OneDrive\\Desktop\\Coding\\AIWorld\\Basic_LangGraph\\.venv\\Lib\\site-packages\\pinecone\\openapi_support\\api_client.py:380\u001B[39m, in \u001B[36mApiClient.request\u001B[39m\u001B[34m(self, method, url, query_params, headers, post_params, body, _preload_content, _request_timeout)\u001B[39m\n\u001B[32m    370\u001B[39m     \u001B[38;5;28;01mreturn\u001B[39;00m \u001B[38;5;28mself\u001B[39m.rest_client.OPTIONS(\n\u001B[32m    371\u001B[39m         url,\n\u001B[32m    372\u001B[39m         query_params=query_params,\n\u001B[32m   (...)\u001B[39m\u001B[32m    377\u001B[39m         body=body,\n\u001B[32m    378\u001B[39m     )\n\u001B[32m    379\u001B[39m \u001B[38;5;28;01melif\u001B[39;00m method == \u001B[33m\"\u001B[39m\u001B[33mPOST\u001B[39m\u001B[33m\"\u001B[39m:\n\u001B[32m--> \u001B[39m\u001B[32m380\u001B[39m     \u001B[38;5;28;01mreturn\u001B[39;00m \u001B[38;5;28;43mself\u001B[39;49m\u001B[43m.\u001B[49m\u001B[43mrest_client\u001B[49m\u001B[43m.\u001B[49m\u001B[43mPOST\u001B[49m\u001B[43m(\u001B[49m\n\u001B[32m    381\u001B[39m \u001B[43m        \u001B[49m\u001B[43murl\u001B[49m\u001B[43m,\u001B[49m\n\u001B[32m    382\u001B[39m \u001B[43m        \u001B[49m\u001B[43mquery_params\u001B[49m\u001B[43m=\u001B[49m\u001B[43mquery_params\u001B[49m\u001B[43m,\u001B[49m\n\u001B[32m    383\u001B[39m \u001B[43m        \u001B[49m\u001B[43mheaders\u001B[49m\u001B[43m=\u001B[49m\u001B[43mheaders\u001B[49m\u001B[43m,\u001B[49m\n\u001B[32m    384\u001B[39m \u001B[43m        \u001B[49m\u001B[43mpost_params\u001B[49m\u001B[43m=\u001B[49m\u001B[43mpost_params\u001B[49m\u001B[43m,\u001B[49m\n\u001B[32m    385\u001B[39m \u001B[43m        \u001B[49m\u001B[43m_preload_content\u001B[49m\u001B[43m=\u001B[49m\u001B[43m_preload_content\u001B[49m\u001B[43m,\u001B[49m\n\u001B[32m    386\u001B[39m \u001B[43m        \u001B[49m\u001B[43m_request_timeout\u001B[49m\u001B[43m=\u001B[49m\u001B[43m_request_timeout\u001B[49m\u001B[43m,\u001B[49m\n\u001B[32m    387\u001B[39m \u001B[43m        \u001B[49m\u001B[43mbody\u001B[49m\u001B[43m=\u001B[49m\u001B[43mbody\u001B[49m\u001B[43m,\u001B[49m\n\u001B[32m    388\u001B[39m \u001B[43m    \u001B[49m\u001B[43m)\u001B[49m\n\u001B[32m    389\u001B[39m \u001B[38;5;28;01melif\u001B[39;00m method == \u001B[33m\"\u001B[39m\u001B[33mPUT\u001B[39m\u001B[33m\"\u001B[39m:\n\u001B[32m    390\u001B[39m     \u001B[38;5;28;01mreturn\u001B[39;00m \u001B[38;5;28mself\u001B[39m.rest_client.PUT(\n\u001B[32m    391\u001B[39m         url,\n\u001B[32m    392\u001B[39m         query_params=query_params,\n\u001B[32m   (...)\u001B[39m\u001B[32m    397\u001B[39m         body=body,\n\u001B[32m    398\u001B[39m     )\n",
      "\u001B[36mFile \u001B[39m\u001B[32m~\\OneDrive\\Desktop\\Coding\\AIWorld\\Basic_LangGraph\\.venv\\Lib\\site-packages\\pinecone\\openapi_support\\rest_utils.py:146\u001B[39m, in \u001B[36mRestClientInterface.POST\u001B[39m\u001B[34m(self, url, headers, query_params, post_params, body, _preload_content, _request_timeout)\u001B[39m\n\u001B[32m    136\u001B[39m \u001B[38;5;28;01mdef\u001B[39;00m\u001B[38;5;250m \u001B[39m\u001B[34mPOST\u001B[39m(\n\u001B[32m    137\u001B[39m     \u001B[38;5;28mself\u001B[39m,\n\u001B[32m    138\u001B[39m     url,\n\u001B[32m   (...)\u001B[39m\u001B[32m    144\u001B[39m     _request_timeout=\u001B[38;5;28;01mNone\u001B[39;00m,\n\u001B[32m    145\u001B[39m ):\n\u001B[32m--> \u001B[39m\u001B[32m146\u001B[39m     \u001B[38;5;28;01mreturn\u001B[39;00m \u001B[38;5;28;43mself\u001B[39;49m\u001B[43m.\u001B[49m\u001B[43mrequest\u001B[49m\u001B[43m(\u001B[49m\n\u001B[32m    147\u001B[39m \u001B[43m        \u001B[49m\u001B[33;43m\"\u001B[39;49m\u001B[33;43mPOST\u001B[39;49m\u001B[33;43m\"\u001B[39;49m\u001B[43m,\u001B[49m\n\u001B[32m    148\u001B[39m \u001B[43m        \u001B[49m\u001B[43murl\u001B[49m\u001B[43m,\u001B[49m\n\u001B[32m    149\u001B[39m \u001B[43m        \u001B[49m\u001B[43mheaders\u001B[49m\u001B[43m=\u001B[49m\u001B[43mheaders\u001B[49m\u001B[43m,\u001B[49m\n\u001B[32m    150\u001B[39m \u001B[43m        \u001B[49m\u001B[43mquery_params\u001B[49m\u001B[43m=\u001B[49m\u001B[43mquery_params\u001B[49m\u001B[43m,\u001B[49m\n\u001B[32m    151\u001B[39m \u001B[43m        \u001B[49m\u001B[43mpost_params\u001B[49m\u001B[43m=\u001B[49m\u001B[43mpost_params\u001B[49m\u001B[43m,\u001B[49m\n\u001B[32m    152\u001B[39m \u001B[43m        \u001B[49m\u001B[43m_preload_content\u001B[49m\u001B[43m=\u001B[49m\u001B[43m_preload_content\u001B[49m\u001B[43m,\u001B[49m\n\u001B[32m    153\u001B[39m \u001B[43m        \u001B[49m\u001B[43m_request_timeout\u001B[49m\u001B[43m=\u001B[49m\u001B[43m_request_timeout\u001B[49m\u001B[43m,\u001B[49m\n\u001B[32m    154\u001B[39m \u001B[43m        \u001B[49m\u001B[43mbody\u001B[49m\u001B[43m=\u001B[49m\u001B[43mbody\u001B[49m\u001B[43m,\u001B[49m\n\u001B[32m    155\u001B[39m \u001B[43m    \u001B[49m\u001B[43m)\u001B[49m\n",
      "\u001B[36mFile \u001B[39m\u001B[32m~\\OneDrive\\Desktop\\Coding\\AIWorld\\Basic_LangGraph\\.venv\\Lib\\site-packages\\pinecone\\openapi_support\\rest_urllib3.py:260\u001B[39m, in \u001B[36mUrllib3RestClient.request\u001B[39m\u001B[34m(self, method, url, query_params, headers, body, post_params, _preload_content, _request_timeout)\u001B[39m\n\u001B[32m    257\u001B[39m     \u001B[38;5;66;03m# log response body\u001B[39;00m\n\u001B[32m    258\u001B[39m     logger.debug(\u001B[33m\"\u001B[39m\u001B[33mresponse body: \u001B[39m\u001B[38;5;132;01m%s\u001B[39;00m\u001B[33m\"\u001B[39m, r.data)\n\u001B[32m--> \u001B[39m\u001B[32m260\u001B[39m \u001B[38;5;28;01mreturn\u001B[39;00m \u001B[43mraise_exceptions_or_return\u001B[49m\u001B[43m(\u001B[49m\u001B[43mr\u001B[49m\u001B[43m)\u001B[49m\n",
      "\u001B[36mFile \u001B[39m\u001B[32m~\\OneDrive\\Desktop\\Coding\\AIWorld\\Basic_LangGraph\\.venv\\Lib\\site-packages\\pinecone\\openapi_support\\rest_utils.py:49\u001B[39m, in \u001B[36mraise_exceptions_or_return\u001B[39m\u001B[34m(r)\u001B[39m\n\u001B[32m     46\u001B[39m     \u001B[38;5;28;01mif\u001B[39;00m \u001B[32m500\u001B[39m <= r.status <= \u001B[32m599\u001B[39m:\n\u001B[32m     47\u001B[39m         \u001B[38;5;28;01mraise\u001B[39;00m ServiceException(http_resp=r)\n\u001B[32m---> \u001B[39m\u001B[32m49\u001B[39m     \u001B[38;5;28;01mraise\u001B[39;00m PineconeApiException(http_resp=r)\n\u001B[32m     51\u001B[39m \u001B[38;5;28;01mreturn\u001B[39;00m r\n",
      "\u001B[31mPineconeApiException\u001B[39m: (409)\nReason: Conflict\nHTTP response headers: HTTPHeaderDict({'content-type': 'text/plain; charset=utf-8', 'access-control-allow-origin': '*', 'vary': 'origin,access-control-request-method,access-control-request-headers', 'access-control-expose-headers': '*', 'x-pinecone-api-version': '2025-01', 'x-cloud-trace-context': '9ff3db5420cd49863ca5dbbb9f6211a1', 'date': 'Sun, 01 Jun 2025 15:45:57 GMT', 'server': 'Google Frontend', 'Content-Length': '85', 'Via': '1.1 google', 'Alt-Svc': 'h3=\":443\"; ma=2592000,h3-29=\":443\"; ma=2592000'})\nHTTP response body: {\"error\":{\"code\":\"ALREADY_EXISTS\",\"message\":\"Resource  already exists\"},\"status\":409}\n"
     ]
    }
   ],
   "execution_count": 18
  },
  {
   "cell_type": "code",
   "id": "895b4e180638a6d8",
   "metadata": {
    "ExecuteTime": {
     "end_time": "2025-06-01T15:46:10.771777Z",
     "start_time": "2025-06-01T15:46:03.324983Z"
    }
   },
   "source": [
    "\n",
    "\n",
    "from langchain_pinecone import PineconeVectorStore\n",
    "\n",
    "docsearch = PineconeVectorStore.from_documents(\n",
    "    documents=text_chunks,\n",
    "    index_name=index_name,\n",
    "    embedding=embeddings\n",
    ")"
   ],
   "outputs": [],
   "execution_count": 19
  },
  {
   "cell_type": "code",
   "id": "b5625b70",
   "metadata": {
    "ExecuteTime": {
     "end_time": "2025-06-01T16:12:16.730922Z",
     "start_time": "2025-06-01T16:12:16.724555Z"
    }
   },
   "source": "docsearch",
   "outputs": [
    {
     "data": {
      "text/plain": [
       "<langchain_pinecone.vectorstores.PineconeVectorStore at 0x22ea9512240>"
      ]
     },
     "execution_count": 20,
     "metadata": {},
     "output_type": "execute_result"
    }
   ],
   "execution_count": 20
  },
  {
   "metadata": {
    "ExecuteTime": {
     "end_time": "2025-06-01T16:15:38.274327Z",
     "start_time": "2025-06-01T16:15:36.683789Z"
    }
   },
   "cell_type": "code",
   "source": [
    "# Load Existing index\n",
    "\n",
    "from langchain_pinecone import PineconeVectorStore\n",
    "\n",
    "#embed each chunk and upsert the embeddings into your Pincone index\n",
    "docsearch = PineconeVectorStore.from_existing_index(\n",
    "    index_name=index_name,\n",
    "    embedding=embeddings\n",
    ")\n"
   ],
   "id": "388fa2e9f6e3f881",
   "outputs": [],
   "execution_count": 21
  },
  {
   "metadata": {
    "ExecuteTime": {
     "end_time": "2025-06-01T16:15:44.162481Z",
     "start_time": "2025-06-01T16:15:44.156398Z"
    }
   },
   "cell_type": "code",
   "source": "docsearch",
   "id": "abeea45059dfeb97",
   "outputs": [
    {
     "data": {
      "text/plain": [
       "<langchain_pinecone.vectorstores.PineconeVectorStore at 0x22eab083e30>"
      ]
     },
     "execution_count": 22,
     "metadata": {},
     "output_type": "execute_result"
    }
   ],
   "execution_count": 22
  },
  {
   "metadata": {
    "ExecuteTime": {
     "end_time": "2025-06-01T16:25:42.131076Z",
     "start_time": "2025-06-01T16:25:40.545354Z"
    }
   },
   "cell_type": "code",
   "source": [
    "retriever = docsearch.as_retriever(search_type=\"similarity\", search_kwargs={\"k\":1})\n",
    "\n",
    "retrieved_docs = retriever.invoke(\"what is the size of Egyptian vulture\")\n",
    "\n",
    "retrieved_docs"
   ],
   "id": "7e95527604a52233",
   "outputs": [
    {
     "data": {
      "text/plain": [
       "[Document(id='e0ca279e-a5e2-46c3-b78a-938e9c159dae', metadata={'author': 'SONY', 'creationdate': '2015-09-30T18:58:42+05:30', 'creator': 'CorelDRAW X7', 'moddate': '2015-09-30T18:58:42+05:30', 'page': 66.0, 'page_label': '67', 'producer': 'Corel PDF Engine Version 17.0.0.491', 'source': 'Data\\\\Birds-of-Indian-Subcontinent.pdf', 'title': 'BIRD BOOK.cdr', 'total_pages': 152.0}, page_content='v Size-85cm\\nv Red colour head and neck \\nwith black bill\\nv White puﬀ in the neck\\nv Black tail.\\nv Reddish legs and feet.\\nv While ﬂight-Dark black colour \\n(wings) coverts with light grey \\nprimary and secondaries\\nRED-HEADED VULTURE\\n55\\nTour Guide on Avifauna IGNFA')]"
      ]
     },
     "execution_count": 32,
     "metadata": {},
     "output_type": "execute_result"
    }
   ],
   "execution_count": 32
  },
  {
   "metadata": {
    "ExecuteTime": {
     "end_time": "2025-06-01T16:25:50.555757Z",
     "start_time": "2025-06-01T16:25:50.550821Z"
    }
   },
   "cell_type": "code",
   "source": "retrieved_docs[0].page_content",
   "id": "9c5db88f57649c54",
   "outputs": [
    {
     "data": {
      "text/plain": [
       "'v Size-85cm\\nv Red colour head and neck \\nwith black bill\\nv White puﬀ in the neck\\nv Black tail.\\nv Reddish legs and feet.\\nv While ﬂight-Dark black colour \\n(wings) coverts with light grey \\nprimary and secondaries\\nRED-HEADED VULTURE\\n55\\nTour Guide on Avifauna IGNFA'"
      ]
     },
     "execution_count": 34,
     "metadata": {},
     "output_type": "execute_result"
    }
   ],
   "execution_count": 34
  },
  {
   "metadata": {
    "ExecuteTime": {
     "end_time": "2025-06-01T16:26:52.126738Z",
     "start_time": "2025-06-01T16:26:52.118829Z"
    }
   },
   "cell_type": "code",
   "source": "MISTRAL_API_KEY = os.getenv(\"MISTRAL_API_KEY\")",
   "id": "3eebe9c58d48ee85",
   "outputs": [],
   "execution_count": 35
  },
  {
   "metadata": {
    "ExecuteTime": {
     "end_time": "2025-06-01T16:27:01.220653Z",
     "start_time": "2025-06-01T16:27:01.216360Z"
    }
   },
   "cell_type": "code",
   "source": [
    "import os\n",
    "os.environ[\"MISTRAL_API_KEY\"] = MISTRAL_API_KEY"
   ],
   "id": "41fdb0b80df04483",
   "outputs": [],
   "execution_count": 36
  },
  {
   "metadata": {
    "ExecuteTime": {
     "end_time": "2025-06-01T16:27:54.560164Z",
     "start_time": "2025-06-01T16:27:54.555816Z"
    }
   },
   "cell_type": "code",
   "source": "# ! pip install langchain_mistralai",
   "id": "5667ae37be08cd23",
   "outputs": [],
   "execution_count": 40
  },
  {
   "metadata": {
    "ExecuteTime": {
     "end_time": "2025-06-01T16:28:07.204120Z",
     "start_time": "2025-06-01T16:28:07.200122Z"
    }
   },
   "cell_type": "code",
   "source": [
    "from langchain_mistralai import ChatMistralAI\n",
    "llm = ChatMistralAI(temperature=0.4, max_tokens=500)"
   ],
   "id": "eb2c57d9f769c231",
   "outputs": [],
   "execution_count": 41
  },
  {
   "metadata": {
    "ExecuteTime": {
     "end_time": "2025-06-01T16:28:42.725764Z",
     "start_time": "2025-06-01T16:28:42.437448Z"
    }
   },
   "cell_type": "code",
   "source": [
    "from langchain.chains import create_retrieval_chain\n",
    "from langchain.chains.combine_documents import create_stuff_documents_chain\n",
    "from langchain_core.prompts import ChatPromptTemplate\n",
    "\n",
    "system_prompt = (\n",
    "    \"You are an assistant for question-answering tasks. \"\n",
    "    \"Use the following pieces of retrieved context to answer \"\n",
    "    \"the question. If you don't know the answer, say that you \"\n",
    "    \"don't know. Use three sentences maximum and keep the \"\n",
    "    \"answer concise.\"\n",
    "    \"\\n\\n\"\n",
    "    \"{context}\"\n",
    ")\n",
    "\n",
    "\n",
    "prompt = ChatPromptTemplate.from_messages(\n",
    "    [\n",
    "        (\"system\", system_prompt),\n",
    "        (\"human\", \"{input}\"),\n",
    "    ]\n",
    ")"
   ],
   "id": "f2dce308c2f37e6e",
   "outputs": [],
   "execution_count": 42
  },
  {
   "metadata": {},
   "cell_type": "markdown",
   "source": "# Chain",
   "id": "313873813a6bc1d3"
  },
  {
   "metadata": {
    "ExecuteTime": {
     "end_time": "2025-06-01T16:28:58.584554Z",
     "start_time": "2025-06-01T16:28:58.577514Z"
    }
   },
   "cell_type": "code",
   "source": [
    "question_answer_chain = create_stuff_documents_chain(llm, prompt)\n",
    "rag_chain = create_retrieval_chain(retriever, question_answer_chain)"
   ],
   "id": "828226a43a2b3bc0",
   "outputs": [],
   "execution_count": 43
  },
  {
   "metadata": {
    "ExecuteTime": {
     "end_time": "2025-06-01T16:30:34.416927Z",
     "start_time": "2025-06-01T16:30:33.085944Z"
    }
   },
   "cell_type": "code",
   "source": [
    "response = rag_chain.invoke({\"input\": \"tell me about great barbet\"})\n",
    "print(response[\"answer\"])"
   ],
   "id": "8d72cd1e6ed7b823",
   "outputs": [
    {
     "name": "stdout",
     "output_type": "stream",
     "text": [
      "The Great Barbet is a bird species with a size of 33cm. It has a blackish blue head and a yellow beak. Its wings are pale brown and green, and its tail is green. The underparts are olive streaked yellowish, and it has red under tail-coverts.\n"
     ]
    }
   ],
   "execution_count": 46
  },
  {
   "metadata": {},
   "cell_type": "code",
   "outputs": [],
   "execution_count": null,
   "source": "",
   "id": "19cafb640b804017"
  }
 ],
 "metadata": {
  "kernelspec": {
   "display_name": "myenv",
   "language": "python",
   "name": "python3"
  },
  "language_info": {
   "codemirror_mode": {
    "name": "ipython",
    "version": 3
   },
   "file_extension": ".py",
   "mimetype": "text/x-python",
   "name": "python",
   "nbconvert_exporter": "python",
   "pygments_lexer": "ipython3",
   "version": "3.12.5"
  }
 },
 "nbformat": 4,
 "nbformat_minor": 5
}
